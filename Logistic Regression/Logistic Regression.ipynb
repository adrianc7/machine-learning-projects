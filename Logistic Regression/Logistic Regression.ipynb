{
 "cells": [
  {
   "cell_type": "markdown",
   "id": "f7a5f63c-4954-4d14-8d69-65d440a72e02",
   "metadata": {},
   "source": [
    "# Logistic Regression and Resampling Methods\n",
    "By Adrian Chavez-Loya"
   ]
  },
  {
   "cell_type": "markdown",
   "id": "83130e9d-385b-4841-b5cf-3bcd69e28eb3",
   "metadata": {},
   "source": [
    "## Background\n",
    "\n",
    "The longevity of an athlete's career is critically important both for the individual and for the team looking to employ their efforts. Ideally, using statistics from their first season, you'd be able to determine the likelihood they'll be a solid long term investment. This dataset seeks to explore that relationship by providing first season statistics for a number of NBA players, as well as a response variable of whether they lasted in the league for 5 years or more. Our task is to use the skills we've learned in Logistic Regression to construct a model that can model this.\n",
    "\n",
    "### Relevant Dataset\n",
    "\n",
    "`nba_logreg.csv`\n",
    "\n",
    "Source: https://data.world/exercises/logistic-regression-exercise-1"
   ]
  },
  {
   "cell_type": "markdown",
   "id": "b3ca3688-cdec-4402-aca4-85489b19175b",
   "metadata": {},
   "source": [
    "## Task 1: Form a training and testing dataset to be used for this analysis.\n",
    "Note: Remember that we shouldn't touch the testing dataset until we're completely done with our model to ensure it's an accurate representation of the generalizability."
   ]
  },
  {
   "cell_type": "code",
   "execution_count": 140,
   "id": "a44b3771-8ae5-429d-8fe9-a7bf177c349d",
   "metadata": {
    "tags": []
   },
   "outputs": [
    {
     "name": "stdout",
     "output_type": "stream",
     "text": [
      "Training data shape: (1063, 2)\n",
      "Testing data shape: (266, 2)\n"
     ]
    }
   ],
   "source": [
    "import pandas as pd\n",
    "import numpy as np\n",
    "import statsmodels.api as sm\n",
    "import statsmodels.formula.api as smf\n",
    "from sklearn.model_selection import train_test_split as sklearn_train_test_split\n",
    "nba_data = pd.read_csv('nba_logreg.csv') #nba data set imported\n",
    "nba_data.dropna(inplace=True)\n",
    "\n",
    "def train_test_split(df, test_size=0.2, random_state=1):\n",
    "    X = df[['FG%', 'GP']]  \n",
    "    y = df['TARGET_5Yrs'] \n",
    "\n",
    "    # used sklearn train_test_split for simplicity!\n",
    "    X_train, X_test, y_train, y_test = sklearn_train_test_split(X, y, test_size=test_size, random_state=random_state)\n",
    "\n",
    "    return X_train, X_test, y_train, y_test\n",
    "\n",
    "X_train, X_test, y_train, y_test = train_test_split(nba_data)#train-test split\n",
    "\n",
    "print(\"Training data shape:\", X_train.shape)\n",
    "print(\"Testing data shape:\", X_test.shape)\n",
    "\n"
   ]
  },
  {
   "cell_type": "markdown",
   "id": "ab30a2eb-bed6-4af5-800b-097e8ba7b9c3",
   "metadata": {},
   "source": [
    "## Task 2: Using 10-fold Cross-Validation, identify the best threshold for predicting 1 or 0 for your logistic regression model that predicts whether they will last 5 years or not given their FG% and Games Played (GP).\n",
    "The easiest way to do this would probably be a double for-loop, where the outer loop iterates over a list of possible threshold values and the inner loop is your 10-fold CV. You can then plot the thresholds vs the average accuracy for each threshold."
   ]
  },
  {
   "cell_type": "code",
   "execution_count": 146,
   "id": "c7ab256f-6bc0-427f-b70d-b10ad4c5bf8f",
   "metadata": {
    "tags": []
   },
   "outputs": [
    {
     "name": "stdout",
     "output_type": "stream",
     "text": [
      "Best threshold found: 0.6\n",
      "Corresponding average accuracy: 0.6960298473456368\n"
     ]
    }
   ],
   "source": [
    "from sklearn.model_selection import KFold\n",
    "from sklearn.metrics import accuracy_score\n",
    "\n",
    "def logistic_regression_cv(data, threshold_list):\n",
    "    kf = KFold(n_splits=10, shuffle=True, random_state=1)\n",
    "    accuracies = []\n",
    "\n",
    "    for threshold in threshold_list:\n",
    "        fold_accuracies = []\n",
    "        for train_index, val_index in kf.split(data):\n",
    "            train_fold = data.iloc[train_index]\n",
    "            val_fold = data.iloc[val_index]\n",
    "\n",
    "            formula = 'TARGET_5Yrs ~ Q(\"FG%\") + GP'  \n",
    "\n",
    "            try:\n",
    "                \n",
    "                logit_model = smf.logit(formula=formula, data=train_fold).fit(disp=0)\n",
    "                X_val = val_fold[['FG%', 'GP']]\n",
    "                y_val = val_fold['TARGET_5Yrs']\n",
    "                preds = (logit_model.predict(X_val) >= threshold).astype(int)\n",
    "                accuracy = accuracy_score(y_val, preds)\n",
    "                fold_accuracies.append(accuracy)\n",
    "            except Exception as e:\n",
    "                print(f\"Error in fold: {e}\")\n",
    "                continue\n",
    "\n",
    "        avg_accuracy = np.mean(fold_accuracies) # avg accuracy\n",
    "        accuracies.append(avg_accuracy)\n",
    "\n",
    "    best_index = np.argmax(accuracies)\n",
    "    best_threshold = threshold_list[best_index]\n",
    "    best_accuracy = accuracies[best_index]\n",
    "\n",
    "    return best_threshold, best_accuracy\n",
    "\n",
    "threshold_list = np.linspace(0.1, 0.9, 9)\n",
    "t_threshold, best_accuracy = logistic_regression_cv(nba_data, threshold_list)\n",
    "\n",
    "print(\"Best threshold found:\", best_threshold)\n",
    "print(\"Corresponding average accuracy:\", best_accuracy)\n",
    "\n",
    "#Best threshold found shown below: "
   ]
  },
  {
   "cell_type": "markdown",
   "id": "5e281a2c-9ea9-47ad-b3c5-7cb95f1ca0c4",
   "metadata": {},
   "source": [
    "## Task 3: Using n-fold CV, estimate the accuracy of your chosen threshold on unseen data.\n",
    "This should be very similar to the previous task except your using the best threshold from the previous task and doing n-fold CV to get an estimate of the accuracy on unseen data (since each observation will be predicted on when it is not in the training fold)."
   ]
  },
  {
   "cell_type": "code",
   "execution_count": 150,
   "id": "d27eff0c-36ac-4f59-ae84-f4a248a81795",
   "metadata": {},
   "outputs": [
    {
     "name": "stdout",
     "output_type": "stream",
     "text": [
      "Optimization terminated successfully.\n",
      "         Current function value: 0.568003\n",
      "         Iterations 5\n",
      "                           Logit Regression Results                           \n",
      "==============================================================================\n",
      "Dep. Variable:            TARGET_5Yrs   No. Observations:                 1072\n",
      "Model:                          Logit   Df Residuals:                     1069\n",
      "Method:                           MLE   Df Model:                            2\n",
      "Date:                Fri, 14 Jun 2024   Pseudo R-squ.:                  0.1444\n",
      "Time:                        22:48:48   Log-Likelihood:                -608.90\n",
      "converged:                       True   LL-Null:                       -711.70\n",
      "Covariance Type:            nonrobust   LLR p-value:                 2.259e-45\n",
      "==============================================================================\n",
      "                 coef    std err          z      P>|z|      [0.025      0.975]\n",
      "------------------------------------------------------------------------------\n",
      "Intercept     -4.5464      0.550     -8.266      0.000      -5.624      -3.468\n",
      "Q(\"FG%\")       0.0471      0.012      3.885      0.000       0.023       0.071\n",
      "GP             0.0498      0.004     11.348      0.000       0.041       0.058\n",
      "==============================================================================\n",
      "Accuracy on test set: 0.6306\n"
     ]
    }
   ],
   "source": [
    "formula = 'TARGET_5Yrs ~ Q(\"FG%\") + GP'\n",
    "final_logit_model = smf.logit(formula=formula, data=train_data).fit()\n",
    "\n",
    "print(final_logit_model.summary())\n",
    "\n",
    "X_test = test_data[['FG%', 'GP']]\n",
    "y_test = test_data['TARGET_5Yrs']\n",
    "test_data['predicted_prob'] = final_logit_model.predict(X_test) #probabality prediction\n",
    "\n",
    "best_threshold = 0.6\n",
    "test_data['predicted_class'] = (test_data['predicted_prob'] >= best_threshold).astype(int)\n",
    "\n",
    "accuracy = np.mean(test_data['predicted_class'] == y_test)#accuracy test\n",
    "print(f\"Accuracy on test set: {accuracy:.4f}\")\n"
   ]
  },
  {
   "cell_type": "markdown",
   "id": "fadb3782-4b70-49f7-b5e4-f78ce73cd01a",
   "metadata": {},
   "source": [
    "## Task 4: Using the bootstrap, get the mean and standard error of each coefficient for your logistic regression model.\n",
    "Remember that the bootstrap just involves taking repeated samples from your original dataset up to the size of that dataset but with replacement. The number of samples you draw is your choice but somewhere around 11 is a fine number."
   ]
  },
  {
   "cell_type": "code",
   "execution_count": 126,
   "id": "259eef2d-c1c3-47cf-8519-c749177daa21",
   "metadata": {},
   "outputs": [
    {
     "name": "stdout",
     "output_type": "stream",
     "text": [
      "Optimization terminated successfully.\n",
      "         Current function value: 0.568003\n",
      "         Iterations 5\n",
      "Mean of Coefficients:\n",
      "Intercept   -4.672425\n",
      "Q(\"FG%\")     0.046522\n",
      "GP           0.052069\n",
      "dtype: float64\n",
      "\n",
      "Standard Error (SE) of Coefficients:\n",
      "Intercept    0.163395\n",
      "Q(\"FG%\")     0.003977\n",
      "GP           0.001084\n",
      "dtype: float64\n"
     ]
    }
   ],
   "source": [
    "\n",
    "formula = 'TARGET_5Yrs ~ Q(\"FG%\") + GP'\n",
    "logit_model = smf.logit(formula=formula, data=train_data).fit()\n",
    "n_bootstrap = 11 #used BS sample of 11\n",
    "\n",
    "def bootstrap_logit(data, formula, n_bootstrap):\n",
    "    n_obs = data.shape[0]\n",
    "    coefficients = []\n",
    "\n",
    "    for _ in range(n_bootstrap):\n",
    "        bootstrap_sample = resample(data, replace=True, n_samples=n_obs, random_state=_)\n",
    "        model = smf.logit(formula=formula, data=bootstrap_sample).fit(disp=0) \n",
    "        coef = model.params\n",
    "        coefficients.append(coef)\n",
    "        coefficients_df = pd.DataFrame(coefficients)\n",
    "    \n",
    "    coef_mean = coefficients_df.mean()\n",
    "    coef_se = coefficients_df.sem()  #mean and SE\n",
    "    return coef_mean, coef_se\n",
    "\n",
    "coef_mean, coef_se = bootstrap_logit(train_data, formula, n_bootstrap)\n",
    "\n",
    "print(\"Mean of Coefficients:\")  # print results\n",
    "print(coef_mean)\n",
    "print(\"\\nStandard Error (SE) of Coefficients:\")\n",
    "print(coef_se)"
   ]
  },
  {
   "cell_type": "markdown",
   "id": "a21476ad-6fec-4159-9f2e-41d6101fe0b4",
   "metadata": {},
   "source": [
    "## Task 5: Use your bootstrap estimates of your coefficients to predict the probability of lasting 5 years or not for your test data. If you use the threshold from before, what accuracy do you get? Is this similar to what you saw from n-fold CV?\n",
    "Note: Look back at the Logistic Regression slides to see how to calculate probability."
   ]
  },
  {
   "cell_type": "code",
   "execution_count": 138,
   "id": "1c2679dd-4f90-44dc-9712-08d84a386f0e",
   "metadata": {},
   "outputs": [
    {
     "name": "stdout",
     "output_type": "stream",
     "text": [
      "Accuracy using bootstrap mean coefficients: 0.6306\n",
      "Cross-validation accuracy: 0.6960 (previously obtained)\n"
     ]
    },
    {
     "data": {
      "image/png": "[encoded data removed]",
      "text/plain": [
       "<Figure size 800x600 with 1 Axes>"
      ]
     },
     "metadata": {},
     "output_type": "display_data"
    }
   ],
   "source": [
    "coef_mean = {\n",
    "    'Intercept': -4.672425, # results from before\n",
    "    'Q(\"FG%\")': 0.046522,\n",
    "    'GP': 0.052069\n",
    "}\n",
    "\n",
    "def logistic_regression_prob(X, coefficients):\n",
    "    lin_pred = coefficients['Intercept'] + \\\n",
    "               coefficients['Q(\"FG%\")'] * X['FG%'] + \\\n",
    "               coefficients['GP'] * X['GP']\n",
    "    prob = 1 / (1 + np.exp(-lin_pred)) #prob. prediction\n",
    "    \n",
    "    return prob\n",
    "\n",
    "test_data['predicted_prob'] = logistic_regression_prob(test_data, coef_mean)\n",
    "\n",
    "test_data['predicted_class'] = (test_data['predicted_prob'] >= 0.6).astype(int) # .6 threshold\n",
    "\n",
    "accuracy_bootstrap = accuracy_score(y_test, test_data['predicted_class']) #accuracy calc\n",
    "\n",
    "print(f\"Accuracy using bootstrap mean coefficients: {accuracy_bootstrap:.4f}\")\n",
    "print(f\"Cross-validation accuracy: {best_accuracy:.4f} (previously obtained)\") #cross valid.\n",
    "\n",
    "\n",
    "from sklearn.metrics import roc_curve, auc\n",
    "import matplotlib.pyplot as plt\n",
    "\n",
    "fpr, tpr, thresholds = roc_curve(y_test, test_data['predicted_prob'])\n",
    "roc_auc = auc(fpr, tpr)\n",
    "\n",
    "plt.figure(figsize=(8, 6))\n",
    "plt.plot(fpr, tpr, color='yellow', lw=2, label=f'ROC curve (AUC = {roc_auc:.2f})')\n",
    "plt.plot([0, 1], [0, 1], color='navy', lw=2, linestyle='--')\n",
    "plt.xlim([0.0, 1.0])\n",
    "plt.ylim([0.0, 1.05])\n",
    "plt.xlabel('False Positive Rate')\n",
    "plt.ylabel('True Positive Rate')\n",
    "plt.title('Receiver Operating Characteristic (ROC) Curve')\n",
    "plt.legend(loc='lower right')\n",
    "plt.show()\n",
    "# ROC Curve and AUC plot print below"
   ]
  }
 ],
 "metadata": {
  "kernelspec": {
   "display_name": "Python 3 (ipykernel)",
   "language": "python",
   "name": "python3"
  },
  "language_info": {
   "codemirror_mode": {
    "name": "ipython",
    "version": 3
   },
   "file_extension": ".py",
   "mimetype": "text/x-python",
   "name": "python",
   "nbconvert_exporter": "python",
   "pygments_lexer": "ipython3",
   "version": "3.11.5"
  }
 },
 "nbformat": 4,
 "nbformat_minor": 5
}
