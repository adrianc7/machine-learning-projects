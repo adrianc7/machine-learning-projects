{
 "cells": [
  {
   "cell_type": "markdown",
   "id": "0f356841-2abb-4554-800c-046eb7e8a860",
   "metadata": {},
   "source": [
    "# Homework #2: Multiple Regressions and Assumptions of Regression\n",
    "## Background\n",
    "The US Department of Agriculture (USDA) publishes county-level datasets on poverty, population, unemployment, income and Education (https://www.ers.usda.gov/data-products/county-level-data-sets/). Imagine you're working for the USDA as a Data Scientist and you've been tasked with putting together an analysis of the influence of education, in rural vs urban communities, on household income and unemployment.\n",
    "\n",
    "The USDA defines the rural vs urban on a continuum from 1 to 9 with 1 referring to the largest counties (for reference, Cache Valley was listed as a 3 in 2013). The full scale is shown below:\n",
    "\n",
    "1. Metro - Counties in metro areas of 1 million population or more                                               \n",
    "2. Metro - Counties in metro areas of 250,000 to 1 million population                                                   \n",
    "3. Metro - Counties in metro areas of fewer than 250,000 population                                                     \n",
    "4. Nonmetro - Urban population of 20,000 or more, adjacent to a metro area                                             \n",
    "5. Nonmetro - Urban population of 20,000 or more, not adjacent to a metro area                                         \n",
    "6. Nonmetro - Urban population of 2,500 to 19,999, adjacent to a metro area                                             \n",
    "7. Nonmetro - Urban population of 2,500 to 19,999, not adjacent to a metro area                                         \n",
    "8. Nonmetro - Completely rural or less than 2,500 urban population, adjacent to a metro area                           \n",
    "9. Nonmetro - Completely rural or less than 2,500 urban population, not adjacent to a metro area\n",
    "\n",
    "**Relevant Datasets**\n",
    "In the `education_unemployment` folder:\n",
    "* `education.csv`\n",
    "* `unemployment.csv`"
   ]
  },
  {
   "cell_type": "markdown",
   "id": "8deaf324-951e-434f-8e04-36d3b72118a7",
   "metadata": {},
   "source": [
    "## Task 1\n",
    "Merge these two datasets on the FIPS code for each county."
   ]
  },
  {
   "cell_type": "code",
   "execution_count": null,
   "id": "c2f99c1a-1c17-43ce-8d88-88a62e6fd3a1",
   "metadata": {},
   "outputs": [],
   "source": []
  },
  {
   "cell_type": "markdown",
   "id": "0adb85ad-262b-45cf-8665-1bb742de244e",
   "metadata": {},
   "source": [
    "## Task 2\n",
    "Using this merged dataset, fit a model that predicts household income given the different variables of percent of the county reaching the different education levels. I'll leave it up to you how you decide to include the rural vs urban in your model (e.g. as a continuous variable, as a categorical variable, as a binary variable, by subsetting).\n",
    "\n",
    "Tip: Does it make sense to include every education level in the model from a mathematical perspective?"
   ]
  },
  {
   "cell_type": "code",
   "execution_count": null,
   "id": "49b6e008-859b-4fd5-9a2e-902e1ca2609b",
   "metadata": {},
   "outputs": [],
   "source": []
  },
  {
   "cell_type": "markdown",
   "id": "0e5e7805-1344-432d-a49b-667d199567f8",
   "metadata": {},
   "source": [
    "## Task 3\n",
    "\n",
    "Consider all of the regression assumptions that must be met, do any transformations you deem necessary, and then refit the model. Interpret the regression results (explain assumptions that are broken) and provide an answer to the question of \"how does education level attained influence household income in rural vs urban communities\".\n",
    "\n",
    "Also, provide an answer in layman's terms that you could report to stakeholders that may or may not be familiar with regression."
   ]
  },
  {
   "cell_type": "code",
   "execution_count": null,
   "id": "a391b413-832e-4a18-a0d9-d3c7dd722162",
   "metadata": {},
   "outputs": [],
   "source": []
  },
  {
   "cell_type": "markdown",
   "id": "ed39e5e7-de02-4eb5-8fac-778b6c9b5c5b",
   "metadata": {},
   "source": [
    "## Task 4\n",
    "Repeat the above analysis but with unemployment rate as the response variable. Answer the same questions you did in Task 3."
   ]
  },
  {
   "cell_type": "code",
   "execution_count": null,
   "id": "64e095cb-9363-4389-b184-2527e3839805",
   "metadata": {},
   "outputs": [],
   "source": []
  }
 ],
 "metadata": {
  "kernelspec": {
   "display_name": "Python 3 (ipykernel)",
   "language": "python",
   "name": "python3"
  },
  "language_info": {
   "codemirror_mode": {
    "name": "ipython",
    "version": 3
   },
   "file_extension": ".py",
   "mimetype": "text/x-python",
   "name": "python",
   "nbconvert_exporter": "python",
   "pygments_lexer": "ipython3",
   "version": "3.8.8"
  }
 },
 "nbformat": 4,
 "nbformat_minor": 5
}
