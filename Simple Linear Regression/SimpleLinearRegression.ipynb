{
 "cells": [
  {
   "cell_type": "markdown",
   "id": "d12b13ee-0696-4ba8-903d-f28dcf56734a",
   "metadata": {},
   "source": [
    "# Simple Linear Regression\n",
    "By Adrian Chavez-Loya"
   ]
  },
  {
   "cell_type": "markdown",
   "id": "3360909c-5a85-4f44-9888-b131e9df961f",
   "metadata": {},
   "source": [
    "## Background\n",
    "The New York Times has published data for case counts and deaths for each county and state across the US. They also have a few additional datasets, one of which is a July 2020 survey of how regularly people in each county wore masks. This data comes for an online survey of about 250,000 responses.\n",
    "\n",
    "You've been tasked with looking at the ***relationship between reported mask usage and case counts per capita (at the county level) for the state of Utah***. This analysis is with real data so expect some level of cleaning and manipulation.\n",
    "\n",
    "Data and descriptions are available at their GitHub page (https://github.com/nytimes/covid-19-data) but for consistency I've uploaded the relevant ones to the Canvas page under \"Datasets\".\n",
    "\n",
    "Relevant Datasets:\n",
    "* `county_census.csv`: Population estimates in 2019 by county\n",
    "* `mask-use-by-county.csv`: Reported mask usage taken from the NY Time July 2020 survey\n",
    "* `us-counties.csv`: Case and death county by county\n"
   ]
  },
  {
   "cell_type": "markdown",
   "id": "31581d89-9816-4f30-a486-e809af088bd6",
   "metadata": {},
   "source": [
    "### Task 1\n",
    "First, you'll need to read in the three datasets and `merge` them together. The `SimpleLinearRegression.ipynb` file may be a useful reference."
   ]
  },
  {
   "cell_type": "code",
   "execution_count": 37,
   "id": "3102295e-57f0-4b93-95e2-d69a2cb27299",
   "metadata": {},
   "outputs": [],
   "source": [
    "import pandas as pd\n",
    "\n",
    "# Read in three data sets\n",
    "county_census = pd.read_csv('/Users/adrianchavezloya/Desktop/Summer 2024/Intro to Regression:Machine Learning/Module 1 and 2/HW1_Simple_Linear_Regression/county_census.csv')\n",
    "mask_data = pd.read_csv('/Users/adrianchavezloya/Desktop/Summer 2024/Intro to Regression:Machine Learning/Module 1 and 2/HW1_Simple_Linear_Regression/mask-use-by-county.csv')\n",
    "us_counties = pd.read_csv('/Users/adrianchavezloya/Desktop/Summer 2024/Intro to Regression:Machine Learning/Module 1 and 2/HW1_Simple_Linear_Regression/us-counties.csv')\n",
    "\n",
    "#Merge three data sets (Match by using FIPS code)\n",
    "merged_data = us_counties.merge(mask_data, left_on='fips', right_on='COUNTYFP')\n",
    "merged_data = merged_data.merge(county_census, left_on='fips', right_on='FIPS') #fixed merging here on second try"
   ]
  },
  {
   "cell_type": "markdown",
   "id": "bc773b77-2919-49a8-b41b-cb317d483c92",
   "metadata": {},
   "source": [
    "### Task 2\n",
    "Since we're only interested in Utah, create a new data frame that contains only the merged data for the state of Utah. If you need to do some Googling, I'd suggest searching \"conditional subset pandas dataframe\"."
   ]
  },
  {
   "cell_type": "code",
   "execution_count": 39,
   "id": "99f7c02f-84c5-4c3d-a462-4f8cda7704e7",
   "metadata": {},
   "outputs": [],
   "source": [
    "# Filter for Utah\n",
    "utah_data = merged_data[merged_data['state'] == 'Utah']"
   ]
  },
  {
   "cell_type": "markdown",
   "id": "9c0de86a-2027-4b7e-83f6-736c127fadf0",
   "metadata": {},
   "source": [
    "### Task 3\n",
    "The case count data is just an absolute cumulative count, meaning that larger counties unsurprisingly have much larger case counts. This may skew our results since we're just interested in the relative relationship between reported mask usage and cases. Create a new variable that is a ratio of `cases/population`. Note: the name of the population variable is `POPESTIMATE2019`."
   ]
  },
  {
   "cell_type": "code",
   "execution_count": 45,
   "id": "429ddb7f-9a7d-4fda-a10c-48c7ba7ae531",
   "metadata": {},
   "outputs": [],
   "source": [
    "utah_data.loc[:, 'cases_per_capita'] = utah_data['cases'] / utah_data['POPESTIMATE2019']"
   ]
  },
  {
   "cell_type": "markdown",
   "id": "ca9ff1d0-0180-4775-b052-8cc7837d7535",
   "metadata": {},
   "source": [
    "### Task 4\n",
    "Finally, run a regression where our **predictor variable** is the proportion of people that responed \"Always\" to the question of \"*How often do you wear a mask in public when you expect to be within six feet of another person?*\" and the **response variable** is your newly created `cases_per_capita` variable."
   ]
  },
  {
   "cell_type": "code",
   "execution_count": 47,
   "id": "66cc1e0e-6420-47e0-937f-96f7fff49ad6",
   "metadata": {},
   "outputs": [
    {
     "name": "stdout",
     "output_type": "stream",
     "text": [
      "                            OLS Regression Results                            \n",
      "==============================================================================\n",
      "Dep. Variable:       cases_per_capita   R-squared:                       0.284\n",
      "Model:                            OLS   Adj. R-squared:                  0.258\n",
      "Method:                 Least Squares   F-statistic:                     10.72\n",
      "Date:                Thu, 23 May 2024   Prob (F-statistic):            0.00290\n",
      "Time:                        15:47:20   Log-Likelihood:                 51.958\n",
      "No. Observations:                  29   AIC:                            -99.92\n",
      "Df Residuals:                      27   BIC:                            -97.18\n",
      "Df Model:                           1                                         \n",
      "Covariance Type:            nonrobust                                         \n",
      "==============================================================================\n",
      "                 coef    std err          t      P>|t|      [0.025      0.975]\n",
      "------------------------------------------------------------------------------\n",
      "const          0.1642      0.026      6.300      0.000       0.111       0.218\n",
      "ALWAYS         0.1941      0.059      3.275      0.003       0.072       0.316\n",
      "==============================================================================\n",
      "Omnibus:                        7.740   Durbin-Watson:                   1.763\n",
      "Prob(Omnibus):                  0.021   Jarque-Bera (JB):                6.245\n",
      "Skew:                          -1.098   Prob(JB):                       0.0440\n",
      "Kurtosis:                       3.585   Cond. No.                         9.00\n",
      "==============================================================================\n",
      "\n",
      "Notes:\n",
      "[1] Standard Errors assume that the covariance matrix of the errors is correctly specified.\n"
     ]
    }
   ],
   "source": [
    "# Import statsmodel \n",
    "import statsmodels.api as sm  \n",
    "\n",
    "# Extract relevant variables\n",
    "X = utah_data['ALWAYS']  #People who always wear masks \n",
    "y = utah_data['cases_per_capita'] \n",
    "\n",
    "# Add a constant to the predictor variable\n",
    "X = sm.add_constant(X) \n",
    "\n",
    "# Fit the regression model using OLS\n",
    "model = sm.OLS(y, X).fit() \n",
    "\n",
    "# Print regression results using summary\n",
    "print(model.summary()) \n"
   ]
  },
  {
   "cell_type": "markdown",
   "id": "a3d00e0d-8f19-4190-93c0-6f20e655766d",
   "metadata": {},
   "source": [
    "### Questions\n",
    "\n",
    "1. ***Are the coefficient estimate significant? What evidence is there to support your answer?***\n",
    "The coefficient estimate for the 'ALWAYS' (those who always wore a mask) variable is 0.1941 with a standard error of 0.059. The t-statistic is 3.275, and the associated p-value is 0.003. Since the p-value (0.003) is less than the typical significance level of 0.05, we can conclude that the coefficient estimate for the 'ALWAYS' variable is statistically significant.\n",
    "\n",
    "2. ***What proportion of variance in the response is explained by this model?***\n",
    "The R-squared value of 0.284 indicates that approximately 28.4% of the variance in the dependent variable \"cases_per_capita\" is explained by the independent variable(s) in the model.\n",
    "\n",
    "3. ***How would you interpret the estimates of the coefficient?***\n",
    "The coefficient estimate for the 'ALWAYS' variable is 0.1941. This suggests that for every unit increase in the 'ALWAYS' variable, the 'cases_per_capita' is expected to increase by 0.1941, holding all other variables constant.\n",
    "\n",
    "4. ***Does your model make sense intuitively? What could explain this result?***\n",
    "The positive coefficient for the 'ALWAYS' variable suggests a positive relationship between the 'ALWAYS' variable and 'cases_per_capita'. This means that higher values of the 'ALWAYS' variable are associated with higher values of 'cases_per_capita'. However, it's important to note that correlation **does not** imply causation, and further analysis is needed to understand the underlying factors driving this relationship."
   ]
  }
 ],
 "metadata": {
  "kernelspec": {
   "display_name": "Python 3 (ipykernel)",
   "language": "python",
   "name": "python3"
  },
  "language_info": {
   "codemirror_mode": {
    "name": "ipython",
    "version": 3
   },
   "file_extension": ".py",
   "mimetype": "text/x-python",
   "name": "python",
   "nbconvert_exporter": "python",
   "pygments_lexer": "ipython3",
   "version": "3.11.5"
  }
 },
 "nbformat": 4,
 "nbformat_minor": 5
}
