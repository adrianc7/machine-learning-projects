{
 "cells": [
  {
   "cell_type": "markdown",
   "id": "5c05df18-c057-4731-a26b-3b025716ccda",
   "metadata": {},
   "source": [
    "# Generalized Linear Models (GLMs)\n",
    "By Adrian Chavez-Loya\n",
    "\n",
    "## Background\n",
    "\n",
    "In 2014, the analytics website, FiveThirtyEight, published an analysis of the gender disparity in appearances in comic books at the two large studios, Marvel and DC. You're working for a small upstart comic book company and you want to work to understand what characteristics are associated with a reduction in appearances and thereby learn where gaps in representation can be filled by your firm. Using the data collected by FiveThirtyEight from the Marvel and DC wiki pages, you will fit an appropriate GLM to predict the number of appearances given this data.\n",
    "\n",
    "### Relevant Datasets\n",
    "* `marvel-wikia-data.csv`\n",
    "* `dc-wikia-data.csv`\n",
    "\n",
    "\n",
    "Article: https://fivethirtyeight.com/features/women-in-comic-books/\n",
    "\n",
    "Aggregated Data: https://github.com/fivethirtyeight/data/tree/master/comic-characters\n",
    "\n",
    "Data Sources:\n",
    "* http://dc.wikia.com/wiki/Main_Page\n",
    "* http://marvel.wikia.com/Main_Page"
   ]
  },
  {
   "cell_type": "markdown",
   "id": "bc092a84-6400-473b-9ad4-28251e6c73df",
   "metadata": {},
   "source": [
    "## Task 1: Concatenate the Marvel and DC datasets into a single dataset.\n",
    "\n",
    "The function `pd.concat` will be useful for this. You should also create a new column in each dataset before concatenating that represents the studio for each. This will allow us to distinguish between the impact of one studio vs the other."
   ]
  },
  {
   "cell_type": "code",
   "execution_count": 1,
   "id": "2b8a1216-24b2-4a68-b96a-becca6210105",
   "metadata": {},
   "outputs": [
    {
     "name": "stdout",
     "output_type": "stream",
     "text": [
      "Marvel Data Types and Head:\n",
      "page_id               int64\n",
      "name                 object\n",
      "urlslug              object\n",
      "ID                   object\n",
      "ALIGN                object\n",
      "EYE                  object\n",
      "HAIR                 object\n",
      "SEX                  object\n",
      "GSM                  object\n",
      "ALIVE                object\n",
      "APPEARANCES         float64\n",
      "FIRST APPEARANCE     object\n",
      "Year                float64\n",
      "dtype: object\n",
      "   page_id                                 name  \\\n",
      "0     1678            Spider-Man (Peter Parker)   \n",
      "1     7139      Captain America (Steven Rogers)   \n",
      "2    64786  Wolverine (James \\\"Logan\\\" Howlett)   \n",
      "3     1868    Iron Man (Anthony \\\"Tony\\\" Stark)   \n",
      "4     2460                  Thor (Thor Odinson)   \n",
      "\n",
      "                                   urlslug                ID  \\\n",
      "0              \\/Spider-Man_(Peter_Parker)   Secret Identity   \n",
      "1        \\/Captain_America_(Steven_Rogers)   Public Identity   \n",
      "2  \\/Wolverine_(James_%22Logan%22_Howlett)   Public Identity   \n",
      "3    \\/Iron_Man_(Anthony_%22Tony%22_Stark)   Public Identity   \n",
      "4                    \\/Thor_(Thor_Odinson)  No Dual Identity   \n",
      "\n",
      "                ALIGN         EYE        HAIR              SEX  GSM  \\\n",
      "0     Good Characters  Hazel Eyes  Brown Hair  Male Characters  NaN   \n",
      "1     Good Characters   Blue Eyes  White Hair  Male Characters  NaN   \n",
      "2  Neutral Characters   Blue Eyes  Black Hair  Male Characters  NaN   \n",
      "3     Good Characters   Blue Eyes  Black Hair  Male Characters  NaN   \n",
      "4     Good Characters   Blue Eyes  Blond Hair  Male Characters  NaN   \n",
      "\n",
      "               ALIVE  APPEARANCES FIRST APPEARANCE    Year  \n",
      "0  Living Characters       4043.0           Aug-62  1962.0  \n",
      "1  Living Characters       3360.0           Mar-41  1941.0  \n",
      "2  Living Characters       3061.0           Oct-74  1974.0  \n",
      "3  Living Characters       2961.0           Mar-63  1963.0  \n",
      "4  Living Characters       2258.0           Nov-50  1950.0  \n",
      "\n",
      "DC Data Types and Head:\n",
      "page_id               int64\n",
      "name                 object\n",
      "urlslug              object\n",
      "ID                   object\n",
      "ALIGN                object\n",
      "EYE                  object\n",
      "HAIR                 object\n",
      "SEX                  object\n",
      "GSM                  object\n",
      "ALIVE                object\n",
      "APPEARANCES         float64\n",
      "FIRST APPEARANCE     object\n",
      "YEAR                float64\n",
      "dtype: object\n",
      "   page_id                         name                              urlslug  \\\n",
      "0     1422         Batman (Bruce Wayne)         \\/wiki\\/Batman_(Bruce_Wayne)   \n",
      "1    23387        Superman (Clark Kent)        \\/wiki\\/Superman_(Clark_Kent)   \n",
      "2     1458   Green Lantern (Hal Jordan)   \\/wiki\\/Green_Lantern_(Hal_Jordan)   \n",
      "3     1659     James Gordon (New Earth)     \\/wiki\\/James_Gordon_(New_Earth)   \n",
      "4     1576  Richard Grayson (New Earth)  \\/wiki\\/Richard_Grayson_(New_Earth)   \n",
      "\n",
      "                ID            ALIGN         EYE        HAIR              SEX  \\\n",
      "0  Secret Identity  Good Characters   Blue Eyes  Black Hair  Male Characters   \n",
      "1  Secret Identity  Good Characters   Blue Eyes  Black Hair  Male Characters   \n",
      "2  Secret Identity  Good Characters  Brown Eyes  Brown Hair  Male Characters   \n",
      "3  Public Identity  Good Characters  Brown Eyes  White Hair  Male Characters   \n",
      "4  Secret Identity  Good Characters   Blue Eyes  Black Hair  Male Characters   \n",
      "\n",
      "   GSM              ALIVE  APPEARANCES FIRST APPEARANCE    YEAR  \n",
      "0  NaN  Living Characters       3093.0        1939, May  1939.0  \n",
      "1  NaN  Living Characters       2496.0    1986, October  1986.0  \n",
      "2  NaN  Living Characters       1565.0    1959, October  1959.0  \n",
      "3  NaN  Living Characters       1316.0   1987, February  1987.0  \n",
      "4  NaN  Living Characters       1237.0      1940, April  1940.0  \n"
     ]
    }
   ],
   "source": [
    "# Imported data and data types to perform data cleaining\n",
    "import pandas as pd\n",
    "import numpy as np\n",
    "marvel_data = pd.read_csv('marvel-wikia-data.csv')\n",
    "dc_data = pd.read_csv('dc-wikia-data.csv')\n",
    "print(\"Marvel Data Types and Head:\")\n",
    "print(marvel_data.dtypes)\n",
    "print(marvel_data.head())\n",
    "print(\"\\nDC Data Types and Head:\")\n",
    "print(dc_data.dtypes)\n",
    "print(dc_data.head())\n"
   ]
  },
  {
   "cell_type": "code",
   "execution_count": 3,
   "id": "00afcf73-0858-492b-bac0-b1597f32d8ec",
   "metadata": {
    "tags": []
   },
   "outputs": [
    {
     "name": "stdout",
     "output_type": "stream",
     "text": [
      "Combined Data Types and Head:\n",
      "page_id               int64\n",
      "name                 object\n",
      "urlslug              object\n",
      "ID                   object\n",
      "ALIGN                object\n",
      "EYE                  object\n",
      "HAIR                 object\n",
      "SEX                  object\n",
      "GSM                  object\n",
      "ALIVE                object\n",
      "APPEARANCES         float64\n",
      "FIRST APPEARANCE     object\n",
      "Year                float64\n",
      "Studio               object\n",
      "YEAR                float64\n",
      "dtype: object\n",
      "   page_id                                 name  \\\n",
      "0     1678            Spider-Man (Peter Parker)   \n",
      "1     7139      Captain America (Steven Rogers)   \n",
      "2    64786  Wolverine (James \\\"Logan\\\" Howlett)   \n",
      "3     1868    Iron Man (Anthony \\\"Tony\\\" Stark)   \n",
      "4     2460                  Thor (Thor Odinson)   \n",
      "\n",
      "                                   urlslug                ID  \\\n",
      "0              \\/Spider-Man_(Peter_Parker)   Secret Identity   \n",
      "1        \\/Captain_America_(Steven_Rogers)   Public Identity   \n",
      "2  \\/Wolverine_(James_%22Logan%22_Howlett)   Public Identity   \n",
      "3    \\/Iron_Man_(Anthony_%22Tony%22_Stark)   Public Identity   \n",
      "4                    \\/Thor_(Thor_Odinson)  No Dual Identity   \n",
      "\n",
      "                ALIGN         EYE        HAIR              SEX  GSM  \\\n",
      "0     Good Characters  Hazel Eyes  Brown Hair  Male Characters  NaN   \n",
      "1     Good Characters   Blue Eyes  White Hair  Male Characters  NaN   \n",
      "2  Neutral Characters   Blue Eyes  Black Hair  Male Characters  NaN   \n",
      "3     Good Characters   Blue Eyes  Black Hair  Male Characters  NaN   \n",
      "4     Good Characters   Blue Eyes  Blond Hair  Male Characters  NaN   \n",
      "\n",
      "               ALIVE  APPEARANCES FIRST APPEARANCE    Year  Studio  YEAR  \n",
      "0  Living Characters       4043.0           Aug-62  1962.0  Marvel   NaN  \n",
      "1  Living Characters       3360.0           Mar-41  1941.0  Marvel   NaN  \n",
      "2  Living Characters       3061.0           Oct-74  1974.0  Marvel   NaN  \n",
      "3  Living Characters       2961.0           Mar-63  1963.0  Marvel   NaN  \n",
      "4  Living Characters       2258.0           Nov-50  1950.0  Marvel   NaN  \n"
     ]
    }
   ],
   "source": [
    "marvel_data['Studio'] = 'Marvel' # Labeled by studio\n",
    "dc_data['Studio'] = 'DC'\n",
    "\n",
    "# Combined 2 data sets\n",
    "combined_data = pd.concat([marvel_data, dc_data], ignore_index=True)\n",
    "print(\"Combined Data Types and Head:\")\n",
    "print(combined_data.dtypes)\n",
    "print(combined_data.head())\n"
   ]
  },
  {
   "cell_type": "code",
   "execution_count": 5,
   "id": "e14599c5-4a0b-4425-aaab-79fc557ee4e0",
   "metadata": {
    "tags": []
   },
   "outputs": [
    {
     "name": "stdout",
     "output_type": "stream",
     "text": [
      "Filtered Data Types and Head:\n",
      "ALIGN           object\n",
      "SEX             object\n",
      "ALIVE           object\n",
      "APPEARANCES    float64\n",
      "ID              object\n",
      "Studio          object\n",
      "Is_Male          int64\n",
      "dtype: object\n",
      "                ALIGN              SEX              ALIVE  APPEARANCES  \\\n",
      "0     Good Characters  Male Characters  Living Characters       4043.0   \n",
      "1     Good Characters  Male Characters  Living Characters       3360.0   \n",
      "2  Neutral Characters  Male Characters  Living Characters       3061.0   \n",
      "3     Good Characters  Male Characters  Living Characters       2961.0   \n",
      "4     Good Characters  Male Characters  Living Characters       2258.0   \n",
      "\n",
      "                 ID  Studio  Is_Male  \n",
      "0   Secret Identity  Marvel        1  \n",
      "1   Public Identity  Marvel        1  \n",
      "2   Public Identity  Marvel        1  \n",
      "3   Public Identity  Marvel        1  \n",
      "4  No Dual Identity  Marvel        1  \n"
     ]
    }
   ],
   "source": [
    "# Subsetting\n",
    "relevant_columns = ['ALIGN', 'SEX', 'ALIVE', 'APPEARANCES', 'ID', 'Studio']\n",
    "subset_data = combined_data[relevant_columns].copy()\n",
    "subset_data.loc[:, 'SEX'] = subset_data['SEX'].astype(str) # Sex to string\n",
    "subset_data.loc[:, 'SEX'].replace('nan', 'Unknown', inplace=True) # Handled missing values\n",
    "subset_data.loc[:, 'Is_Male'] = subset_data['SEX'].apply(lambda x: 1 if 'Male' in x else 0) # Sex binary variable\n",
    "filtered_data = subset_data[subset_data['APPEARANCES'] > 1] # Remove characters appearing only once\n",
    "print(\"Filtered Data Types and Head:\")\n",
    "print(filtered_data.dtypes)\n",
    "print(filtered_data.head())\n"
   ]
  },
  {
   "cell_type": "markdown",
   "id": "bda0263d-6243-41f9-9c3a-9d2206601b72",
   "metadata": {},
   "source": [
    "## Task 2: Subset the data to relevant variables and observations.\n",
    "\n",
    "If you want to limit the number of levels, a good list of variables would be: `ALIGN`,`SEX`,`ALIVE`,`APPEARANCES`,`ID`,`Studio`. Given that this dataset includes a few `SEX` categories with very few observations, create a new binary variable for a character's `SEX` being Male or not Male. Also, remove any characters that only appear once."
   ]
  },
  {
   "cell_type": "code",
   "execution_count": 7,
   "id": "6f936d61-4866-4089-b60c-487b9190fbf7",
   "metadata": {
    "tags": []
   },
   "outputs": [
    {
     "name": "stdout",
     "output_type": "stream",
     "text": [
      "Filtered Data Types and Head:\n",
      "ALIGN           object\n",
      "SEX             object\n",
      "ALIVE           object\n",
      "APPEARANCES    float64\n",
      "ID              object\n",
      "Studio          object\n",
      "Is_Male          int64\n",
      "dtype: object\n",
      "                ALIGN              SEX              ALIVE  APPEARANCES  \\\n",
      "0     Good Characters  Male Characters  Living Characters       4043.0   \n",
      "1     Good Characters  Male Characters  Living Characters       3360.0   \n",
      "2  Neutral Characters  Male Characters  Living Characters       3061.0   \n",
      "3     Good Characters  Male Characters  Living Characters       2961.0   \n",
      "4     Good Characters  Male Characters  Living Characters       2258.0   \n",
      "\n",
      "                 ID  Studio  Is_Male  \n",
      "0   Secret Identity  Marvel        1  \n",
      "1   Public Identity  Marvel        1  \n",
      "2   Public Identity  Marvel        1  \n",
      "3   Public Identity  Marvel        1  \n",
      "4  No Dual Identity  Marvel        1  \n",
      "Cleaned Data Types and Head:\n",
      "ALIGN          category\n",
      "SEX            category\n",
      "ALIVE          category\n",
      "APPEARANCES     float64\n",
      "ID               object\n",
      "Studio         category\n",
      "Is_Male           int64\n",
      "dtype: object\n",
      "                ALIGN              SEX              ALIVE  APPEARANCES  \\\n",
      "0     Good Characters  Male Characters  Living Characters       4043.0   \n",
      "1     Good Characters  Male Characters  Living Characters       3360.0   \n",
      "2  Neutral Characters  Male Characters  Living Characters       3061.0   \n",
      "3     Good Characters  Male Characters  Living Characters       2961.0   \n",
      "4     Good Characters  Male Characters  Living Characters       2258.0   \n",
      "\n",
      "                 ID  Studio  Is_Male  \n",
      "0   Secret Identity  Marvel        1  \n",
      "1   Public Identity  Marvel        1  \n",
      "2   Public Identity  Marvel        1  \n",
      "3   Public Identity  Marvel        1  \n",
      "4  No Dual Identity  Marvel        1  \n"
     ]
    }
   ],
   "source": [
    "# Final data cleaning\n",
    "filtered_data = filtered_data.dropna(subset=['ALIGN', 'SEX', 'ALIVE', 'APPEARANCES'])\n",
    "filtered_data['ALIGN'] = filtered_data['ALIGN'].astype('category')\n",
    "filtered_data['SEX'] = filtered_data['SEX'].astype('category')\n",
    "filtered_data['ALIVE'] = filtered_data['ALIVE'].astype('category')\n",
    "filtered_data['Studio'] = filtered_data['Studio'].astype('category')\n",
    "print(\"Cleaned Data Types and Head:\")\n",
    "print(filtered_data.dtypes)\n",
    "print(filtered_data.head())"
   ]
  },
  {
   "cell_type": "markdown",
   "id": "25ecd16c-4d3b-4d8f-90dd-3c6784ca9e88",
   "metadata": {},
   "source": [
    "## Task 3: Split your data into train/test and fit an appropriate GLM to the training data.\n",
    "\n",
    "It will be up to you to determine the appropriate choice of distribution or family of the GLM. Look at residual plots and see if there are any red flags with this model."
   ]
  },
  {
   "cell_type": "code",
   "execution_count": 9,
   "id": "2a20e092-ff98-4040-ac69-8fbb8d7e391a",
   "metadata": {
    "tags": []
   },
   "outputs": [
    {
     "name": "stderr",
     "output_type": "stream",
     "text": [
      "/var/folders/vq/l_8lvyx12cxb7kcq563rstwh0000gn/T/ipykernel_4731/4283741262.py:11: SettingWithCopyWarning: \n",
      "A value is trying to be set on a copy of a slice from a DataFrame.\n",
      "Try using .loc[row_indexer,col_indexer] = value instead\n",
      "\n",
      "See the caveats in the documentation: https://pandas.pydata.org/pandas-docs/stable/user_guide/indexing.html#returning-a-view-versus-a-copy\n",
      "  relevant_data['SEX'] = relevant_data['SEX'].fillna('Unknown')  # Replace NaN with 'Unknown'\n",
      "/var/folders/vq/l_8lvyx12cxb7kcq563rstwh0000gn/T/ipykernel_4731/4283741262.py:14: SettingWithCopyWarning: \n",
      "A value is trying to be set on a copy of a slice from a DataFrame.\n",
      "Try using .loc[row_indexer,col_indexer] = value instead\n",
      "\n",
      "See the caveats in the documentation: https://pandas.pydata.org/pandas-docs/stable/user_guide/indexing.html#returning-a-view-versus-a-copy\n",
      "  relevant_data['Is_Male'] = relevant_data['SEX'].apply(lambda x: 1 if 'Male' in x else 0)\n"
     ]
    }
   ],
   "source": [
    "import statsmodels.api as sm\n",
    "from sklearn.model_selection import train_test_split\n",
    "relevant_data = combined_data[['ALIGN', 'SEX', 'ALIVE', 'APPEARANCES', 'ID', 'Studio']]\n",
    "\n",
    "\n",
    "relevant_data['SEX'] = relevant_data['SEX'].fillna('Unknown')  # Replace NaN with 'Unknown'\n",
    "relevant_data['Is_Male'] = relevant_data['SEX'].apply(lambda x: 1 if 'Male' in x else 0)\n",
    "filtered_data = relevant_data[relevant_data['APPEARANCES'] > 1]\n",
    "filtered_data = filtered_data.drop(columns=['SEX']) # Dropped sex since it is the same as \"is male\" column\n",
    "X = pd.get_dummies(filtered_data[['ALIGN', 'ALIVE', 'Is_Male', 'Studio']], drop_first=True) #Dummibes\n",
    "y = filtered_data['APPEARANCES']\n",
    "\n",
    "# Split into train/test sets\n",
    "X_train, X_test, y_train, y_test = train_test_split(X, y, test_size=0.2, random_state=42)\n",
    "X_train_sm = sm.add_constant(X_train)"
   ]
  },
  {
   "cell_type": "code",
   "execution_count": 11,
   "id": "20c49c74-a896-477c-918a-1a701f7e634b",
   "metadata": {
    "tags": []
   },
   "outputs": [
    {
     "name": "stdout",
     "output_type": "stream",
     "text": [
      "\n",
      "X_train Numpy Array Type after Conversion:\n",
      "int64\n"
     ]
    }
   ],
   "source": [
    "# Convert boolean columns to integers\n",
    "X_train = X_train.astype(int)\n",
    "print(\"\\nX_train Numpy Array Type after Conversion:\")\n",
    "print(np.asarray(X_train).dtype)"
   ]
  },
  {
   "cell_type": "code",
   "execution_count": 13,
   "id": "6aacaad5-d1e7-4b67-bd58-addc8471c606",
   "metadata": {
    "tags": []
   },
   "outputs": [
    {
     "name": "stdout",
     "output_type": "stream",
     "text": [
      "                    Feature       VIF\n",
      "0                     const  9.822023\n",
      "1                   Is_Male  1.015725\n",
      "2     ALIGN_Good Characters  1.107689\n",
      "3  ALIGN_Neutral Characters  1.091771\n",
      "4  ALIGN_Reformed Criminals  1.000572\n",
      "5   ALIVE_Living Characters  1.008271\n",
      "6             Studio_Marvel  1.016270\n"
     ]
    }
   ],
   "source": [
    "# Multicollinearity check with VIF\n",
    "from statsmodels.stats.outliers_influence import variance_inflation_factor\n",
    "import pandas as pd\n",
    "X_train_with_const = sm.add_constant(X_train)\n",
    "vif = pd.DataFrame()\n",
    "vif['Feature'] = X_train_with_const.columns\n",
    "vif['VIF'] = [variance_inflation_factor(X_train_with_const.values, i) for i in range(X_train_with_const.shape[1])]\n",
    "print(vif)"
   ]
  },
  {
   "cell_type": "code",
   "execution_count": 15,
   "id": "c9e73d8d-16df-4108-a03c-3126ab3ce22c",
   "metadata": {
    "tags": []
   },
   "outputs": [
    {
     "name": "stdout",
     "output_type": "stream",
     "text": [
      "Poisson GLM Summary:\n",
      "                 Generalized Linear Model Regression Results                  \n",
      "==============================================================================\n",
      "Dep. Variable:            APPEARANCES   No. Observations:                12807\n",
      "Model:                            GLM   Df Residuals:                    12801\n",
      "Model Family:                 Poisson   Df Model:                            5\n",
      "Link Function:                    Log   Scale:                          1.0000\n",
      "Method:                          IRLS   Log-Likelihood:            -5.2508e+05\n",
      "Date:                Fri, 26 Jul 2024   Deviance:                   9.9967e+05\n",
      "Time:                        10:52:08   Pearson chi2:                 4.39e+06\n",
      "No. Iterations:                     7   Pseudo R-squ. (CS):             0.1889\n",
      "Covariance Type:            nonrobust                                         \n",
      "============================================================================================\n",
      "                               coef    std err          z      P>|z|      [0.025      0.975]\n",
      "--------------------------------------------------------------------------------------------\n",
      "Is_Male                      0.8131      0.004    191.990      0.000       0.805       0.821\n",
      "ALIGN_Good Characters        1.8575      0.005    406.103      0.000       1.849       1.866\n",
      "ALIGN_Neutral Characters     1.3113      0.006    202.895      0.000       1.299       1.324\n",
      "ALIGN_Reformed Criminals    -0.0435      0.302     -0.144      0.885      -0.634       0.548\n",
      "ALIVE_Living Characters      1.2612      0.005    243.174      0.000       1.251       1.271\n",
      "Studio_Marvel                0.3450      0.004     88.183      0.000       0.337       0.353\n",
      "============================================================================================\n"
     ]
    }
   ],
   "source": [
    "# Fit Poisson GLM\n",
    "import statsmodels.api as sm\n",
    "poisson_model = sm.GLM(y_train, X_train, family=sm.families.Poisson()).fit()\n",
    "print(\"Poisson GLM Summary:\")\n",
    "print(poisson_model.summary())"
   ]
  },
  {
   "cell_type": "markdown",
   "id": "c22d31e5-fabe-414b-98f9-0f72714d8981",
   "metadata": {
    "tags": []
   },
   "source": [
    "## Task 4: Interpret coefficients in the context of our original research question of \"what characteristics are associated with a reduction in appearances?\"\n",
    "\n",
    "Note: You can ignore any broken assumptions at this point and simply treat it as an effective model."
   ]
  },
  {
   "cell_type": "markdown",
   "id": "12c01459-1873-438f-9517-30be0e076542",
   "metadata": {},
   "source": [
    "### Interpretation of Coefficients in the Context of the Research Question\n",
    "\n",
    "The original research question is: \"What characteristics are associated with a reduction in appearances?\"\n",
    "\n",
    "Given the Poisson GLM summary, we interpret the coefficients to understand how each characteristic influences the number of appearances.\n",
    "\n",
    "#### Summary of Coefficients\n",
    "\n",
    "1. **Is_Male (Coefficient: 0.8131)**\n",
    "    - Being male is associated with an increase in the number of appearances. Male characters have a higher expected number of appearances compared to non-male characters.\n",
    "\n",
    "2. **ALIGN_Good Characters (Coefficient: 1.8575)**\n",
    "    - Being classified as a good character is strongly associated with an increase in appearances. Good characters are expected to appear significantly more often than non-good characters.\n",
    "\n",
    "3. **ALIGN_Neutral Characters (Coefficient: 1.3113)**\n",
    "    - Neutral characters see an increase in the number of appearances. Neutral characters are expected to appear more frequently compared to non-neutral characters.\n",
    "\n",
    "4. **ALIGN_Reformed Criminals (Coefficient: -0.0435)**\n",
    "    - Being a reformed criminal is associated with a slight reduction in appearances. Although this coefficient is not statistically significant (p = 0.885), it suggests a potential tendency for reformed criminals to have fewer appearances.\n",
    "\n",
    "5. **ALIVE_Living Characters (Coefficient: 1.2612)**\n",
    "    - Living characters are associated with an increase in appearances. Characters who are alive tend to appear more frequently than those who are not.\n",
    "\n",
    "6. **Studio_Marvel (Coefficient: 0.3450)**\n",
    "    - Characters associated with Marvel Studios are more likely to have a higher number of appearances. Being part of the Marvel universe contributes to more frequent appearances.\n",
    "\n",
    "### Conclusion\n",
    "\n",
    "- **Characteristics Associated with a Reduction in Appearances:**\n",
    "    - **ALIGN_Reformed Criminals**: Despite being the only negative coefficient, it is not statistically significant. It suggests a potential, but weak, reduction in appearances.\n",
    "\n",
    "- **Overall Finding:**\n",
    "    - There are no strong characteristics identified that significantly reduce the number of appearances. Most characteristics analyzed, including being male, being a good or neutral character, being alive, and being part of Marvel Studios, are associated with an increase in appearances."
   ]
  }
 ],
 "metadata": {
  "kernelspec": {
   "display_name": "Python 3 (ipykernel)",
   "language": "python",
   "name": "python3"
  },
  "language_info": {
   "codemirror_mode": {
    "name": "ipython",
    "version": 3
   },
   "file_extension": ".py",
   "mimetype": "text/x-python",
   "name": "python",
   "nbconvert_exporter": "python",
   "pygments_lexer": "ipython3",
   "version": "3.11.5"
  }
 },
 "nbformat": 4,
 "nbformat_minor": 5
}
