{
 "cells": [
  {
   "cell_type": "markdown",
   "id": "cdb1ee75-20dd-4bab-bde8-d9a8b6c020af",
   "metadata": {},
   "source": [
    "# Unit Test #1\n",
    "Topics Covered:\n",
    "* Simple Linear Regression\n",
    "* Multiple Regression\n",
    "* Regression Assumptions"
   ]
  },
  {
   "cell_type": "markdown",
   "id": "ad7c3987-99ff-460d-bac5-4a76d67e3b16",
   "metadata": {},
   "source": [
    "## Background\n",
    "The Global Health Observatory (GHO) data repository under the World Health Organization (WHO) tracks health status and other related factors for all countries. This dataset is related to life expectancy and associated health factors for 193 countries, aggregated from the WHO, and corresponding economic data was collected from the United Nation website. This data spans the years of 2000 to 2015.\n",
    "\n",
    "**Dataset**\n",
    "\n",
    "`Life Expectancy Data.csv`\n",
    "\n",
    "## Task\n",
    "You've been tasked with answering a few questions that could highlight key factors in increasing life expectancy within a country. The following questions are meant to be a guide for your study but it is up to you to provide full support of your answer (i.e. ensure assumptions are met, explain when they can't be, interpret coefficients). All answers should be provided in the notebook with associated code."
   ]
  },
  {
   "cell_type": "markdown",
   "id": "4fdb5f59-b884-472d-ab6c-7df31a42fc09",
   "metadata": {},
   "source": [
    "**Question**\n",
    "\n",
    "What can be said about the relationship between some of these predictor variables and `Life Expectancy`? Note: `Life Expectancy` should be your response variable.\n",
    "\n",
    "**Bonus** \n",
    "\n",
    "What's the highest Adjusted $R^2$ you can achieve? Would this model work well on new data?"
   ]
  },
  {
   "cell_type": "code",
   "execution_count": null,
   "id": "28543116-07e2-4ec4-8523-a9bcf5b38206",
   "metadata": {},
   "outputs": [],
   "source": []
  }
 ],
 "metadata": {
  "kernelspec": {
   "display_name": "Python 3 (ipykernel)",
   "language": "python",
   "name": "python3"
  },
  "language_info": {
   "codemirror_mode": {
    "name": "ipython",
    "version": 3
   },
   "file_extension": ".py",
   "mimetype": "text/x-python",
   "name": "python",
   "nbconvert_exporter": "python",
   "pygments_lexer": "ipython3",
   "version": "3.8.8"
  }
 },
 "nbformat": 4,
 "nbformat_minor": 5
}
